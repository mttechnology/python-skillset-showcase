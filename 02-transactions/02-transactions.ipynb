{
 "cells": [
  {
   "cell_type": "markdown",
   "id": "0056f3f5-dfb4-42c8-aecb-afc714b951f9",
   "metadata": {},
   "source": [
    "# project: Transactions"
   ]
  },
  {
   "cell_type": "markdown",
   "id": "4c6c0aa0-a6a5-47e5-bf85-bb8762223113",
   "metadata": {},
   "source": [
    "The \"transactions\" list contains dictionaries. Each dictionary shows a bank transaction with a type (deposit, withdrawal, or transfer) and an amount of money.\n",
    "In the code below, we perform two tasks:  \n",
    "🔹 **Calculate the total amount for each type of transaction.**  \n",
    "🔹 **Determine how much money is left in each account.**"
   ]
  },
  {
   "cell_type": "markdown",
   "id": "25f02ea6-7427-4588-ad46-2f5be99565bd",
   "metadata": {},
   "source": [
    "Sample list of bank transactions:"
   ]
  },
  {
   "cell_type": "code",
   "execution_count": 8,
   "id": "83b48fce-0d4f-4b58-9849-66610fb94785",
   "metadata": {},
   "outputs": [],
   "source": [
    "transactions = [\n",
    "    {'trans_type': 'deposit', 'account': 'checking', 'amount': 5000},\n",
    "    {'trans_type': 'withdrawal', 'account': 'checking', 'amount': 1200},\n",
    "    {'trans_type': 'transfer', 'from_account': 'checking', 'to_account': 'savings', 'amount': 2000},\n",
    "    {'trans_type': 'deposit', 'account': 'savings', 'amount': 3000},\n",
    "    {'trans_type': 'withdrawal', 'account': 'savings', 'amount': 500},\n",
    "    {'trans_type': 'transfer', 'from_account': 'savings', 'to_account': 'investment', 'amount': 1000},\n",
    "]"
   ]
  },
  {
   "cell_type": "markdown",
   "id": "82a4f57c-e65b-4f90-b675-4f7ff628959f",
   "metadata": {},
   "source": [
    "### Calculating the total amount for each type of transaction:"
   ]
  },
  {
   "cell_type": "code",
   "execution_count": 40,
   "id": "ad0fcdac-fb00-4490-8b6a-7725ed5aa24a",
   "metadata": {},
   "outputs": [
    {
     "name": "stdout",
     "output_type": "stream",
     "text": [
      "{'deposit': 8000, 'withdrawal': 1700, 'transfer': 3000}\n"
     ]
    }
   ],
   "source": [
    "transaction_totals = {}\n",
    "\n",
    "for transaction in transactions:\n",
    "    trans_type = transaction['trans_type']\n",
    "    amount = transaction['amount']\n",
    "\n",
    "    transaction_totals[trans_type] = transaction_totals.get(trans_type,0) + amount\n",
    "\n",
    "print(transaction_totals)"
   ]
  },
  {
   "cell_type": "markdown",
   "id": "969001ea-d550-489a-86c7-587f2fbee74c",
   "metadata": {},
   "source": [
    "### Remaining balance per account:"
   ]
  },
  {
   "cell_type": "code",
   "execution_count": 36,
   "id": "e7ec1fa7-0cff-41af-b119-973550192f3c",
   "metadata": {},
   "outputs": [
    {
     "name": "stdout",
     "output_type": "stream",
     "text": [
      "{'checking': 1800, 'savings': 3500, 'investment': 1000}\n"
     ]
    }
   ],
   "source": [
    "balance_per_account = {}\n",
    "\n",
    "for transaction in transactions: \n",
    "    trans_type = transaction['trans_type']\n",
    "    amount = transaction['amount']\n",
    "\n",
    "    if trans_type == 'transfer':\n",
    "        from_account = transaction['from_account']\n",
    "        to_account = transaction['to_account']\n",
    "\n",
    "        balance_per_account[from_account] = balance_per_account.get(from_account,0) - amount\n",
    "        balance_per_account[to_account] = balance_per_account.get(to_account,0) + amount\n",
    "        \n",
    "    elif trans_type == 'deposit':\n",
    "        account = transaction['account']   \n",
    "        balance_per_account[account] = balance_per_account.get(account,0) + amount\n",
    "\n",
    "    elif trans_type == 'withdrawal':\n",
    "        account = transaction['account']\n",
    "        balance_per_account[account] = balance_per_account.get(account,0) - amount\n",
    "\n",
    "print(balance_per_account)    "
   ]
  }
 ],
 "metadata": {
  "kernelspec": {
   "display_name": "Python 3 (ipykernel)",
   "language": "python",
   "name": "python3"
  },
  "language_info": {
   "codemirror_mode": {
    "name": "ipython",
    "version": 3
   },
   "file_extension": ".py",
   "mimetype": "text/x-python",
   "name": "python",
   "nbconvert_exporter": "python",
   "pygments_lexer": "ipython3",
   "version": "3.13.0"
  }
 },
 "nbformat": 4,
 "nbformat_minor": 5
}
