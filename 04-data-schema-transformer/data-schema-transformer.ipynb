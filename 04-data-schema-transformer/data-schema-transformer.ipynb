{
 "cells": [
  {
   "cell_type": "markdown",
   "id": "78a339fb-07fa-41cd-9ab8-725f6b8dc35b",
   "metadata": {},
   "source": [
    "# Data Schema Transformer\n",
    "This notebook demonstrates how to transform **raw sales data** into a **structured, schema-based dictionary**.  \n",
    "It is part of my portfolio projects, showcasing **data structuring**, **Python built-in functions** (like `zip`), and **extensible code design**."
   ]
  },
  {
   "cell_type": "markdown",
   "id": "3e958f2d-a78d-409f-9d4f-4aa12c648735",
   "metadata": {},
   "source": [
    "## Project Description\n",
    "The main idea is to start with **raw sales data** (a list of tuples) and a **schema** (a list of field names).  \n",
    "By combining these, we can build a **dictionary** where:  \n",
    "\n",
    "- The **main key** is the product name.  \n",
    "- The **value** is another dictionary containing attributes from the schema.  \n",
    "\n",
    "This design is **extensible**: if the schema changes (e.g., adding \"stock\"), the code adapts with minimal modifications."
   ]
  },
  {
   "cell_type": "code",
   "execution_count": 3,
   "id": "a9eec52e-c297-413e-87e7-31681d4ee7fd",
   "metadata": {},
   "outputs": [],
   "source": [
    "# Example raw data and schema\n",
    "data = [\n",
    "    ('item1', 10, 100.0),\n",
    "    ('item2', 5, 25.0),\n",
    "    ('item3', 100, 0.25)\n",
    "]\n",
    "\n",
    "schema = ['widget', 'num_sold', 'unit_price']\n"
   ]
  },
  {
   "cell_type": "code",
   "execution_count": 9,
   "id": "807571ac-c723-4c5c-bc0e-0773997a7af7",
   "metadata": {},
   "outputs": [],
   "source": [
    "# Expected Output\n",
    "result = {\n",
    "    'item1' : {'num_sold': 10, 'unit_price': 100.0},\n",
    "    'item2' : {'num_sold': 5, 'unit_price': 25.0},\n",
    "    'item3' : {'num_sold': 100, 'unit_price': 0.25}\n",
    "}"
   ]
  },
  {
   "cell_type": "code",
   "execution_count": 5,
   "id": "ed56dd60-dc11-4a35-96e5-e782cd27078f",
   "metadata": {},
   "outputs": [],
   "source": [
    "def transform_data(data, schema):\n",
    "    \"\"\"\n",
    "    Transforms raw data into a structured dictionary based on the given schema.\n",
    "    \n",
    "    Parameters:\n",
    "        data (list of tuples): Raw input data\n",
    "        schema (list of str): Field names corresponding to tuple elements\n",
    "    \n",
    "    Returns:\n",
    "        dict: Structured data with product name as main key\n",
    "    \"\"\"\n",
    "    result = {}\n",
    "    for row in data:\n",
    "        # Create mapping between schema and row\n",
    "        record = dict(zip(schema, row))\n",
    "        # Use the first schema field (e.g., 'name') as main key\n",
    "        key = record.pop(schema[0])\n",
    "        result[key] = record\n",
    "    return result\n"
   ]
  },
  {
   "cell_type": "code",
   "execution_count": 45,
   "id": "4f523c1c-03fb-43d9-8da1-4e2391dd19e8",
   "metadata": {},
   "outputs": [],
   "source": [
    "from pprint import pprint\n",
    "\n",
    "def transform_data(data, schema):\n",
    "    \"\"\"\n",
    "    Transforms raw data into a structured dictionary based on the given schema.\n",
    "    \n",
    "    Parameters:\n",
    "        data (list of tuples): Raw input data\n",
    "        schema (list of str): Field names corresponding to tuple elements\n",
    "    \n",
    "    Returns:\n",
    "        dict: Structured data with product name as main key\n",
    "    \"\"\"\n",
    "    # Build dictionary using dictionary comprehension:\n",
    "    # - Use the first element of each row (row[0]) as the main key\n",
    "    # - Zip the remaining schema fields with the remaining row values to create nested dict\n",
    "    result = {\n",
    "        row[0]: dict(zip(schema[1:], row[1:]))\n",
    "        for row in data\n",
    "    }\n",
    "\n",
    "    return result"
   ]
  },
  {
   "cell_type": "code",
   "execution_count": 44,
   "id": "425c0194-8ffd-470d-9558-d621d4a064ed",
   "metadata": {},
   "outputs": [
    {
     "data": {
      "text/plain": [
       "{'item1': {'num_sold': 10, 'unit_price': 100.0},\n",
       " 'item2': {'num_sold': 5, 'unit_price': 25.0},\n",
       " 'item3': {'num_sold': 100, 'unit_price': 0.25}}"
      ]
     },
     "execution_count": 44,
     "metadata": {},
     "output_type": "execute_result"
    }
   ],
   "source": [
    "transform_data(data, schema)"
   ]
  },
  {
   "cell_type": "code",
   "execution_count": null,
   "id": "c9bcf056-37f5-4a76-9ac6-525c9c0b6212",
   "metadata": {},
   "outputs": [],
   "source": []
  }
 ],
 "metadata": {
  "kernelspec": {
   "display_name": "Python 3 (ipykernel)",
   "language": "python",
   "name": "python3"
  },
  "language_info": {
   "codemirror_mode": {
    "name": "ipython",
    "version": 3
   },
   "file_extension": ".py",
   "mimetype": "text/x-python",
   "name": "python",
   "nbconvert_exporter": "python",
   "pygments_lexer": "ipython3",
   "version": "3.13.0"
  }
 },
 "nbformat": 4,
 "nbformat_minor": 5
}
