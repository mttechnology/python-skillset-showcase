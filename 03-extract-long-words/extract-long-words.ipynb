{
 "cells": [
  {
   "cell_type": "markdown",
   "id": "e82e57ee-120c-46e2-8340-cb46bc4ef9ae",
   "metadata": {},
   "source": [
    "# Filter Long Words"
   ]
  },
  {
   "cell_type": "markdown",
   "id": "30e6f390-1c58-4366-a818-59da5c38ddc2",
   "metadata": {},
   "source": [
    "Extract words with more than 5 letters from a text using set comprehension."
   ]
  },
  {
   "cell_type": "code",
   "execution_count": 4,
   "id": "54d2a96a-3c99-4174-830d-b07841e92e49",
   "metadata": {},
   "outputs": [],
   "source": [
    "text = \"\"\"Science explores the universe, unlocking mysteries of nature, energy,\n",
    "and life. Through observation, experimentation, and analysis, scientists reveal how things\n",
    "work—from atoms to galaxies. Innovations in medicine, technology, and environment stem from\n",
    "scientific research. Constant curiosity drives discovery, transforming theories into knowledge.\n",
    "Science changes everything—logically, profoundly, and continually.\"\"\""
   ]
  },
  {
   "cell_type": "code",
   "execution_count": 5,
   "id": "f3dbcaf5-5214-4169-a8fd-8057031d0c2c",
   "metadata": {},
   "outputs": [
    {
     "data": {
      "text/plain": [
       "'Science explores the universe  unlocking mysteries of nature  energy  and life  Through observation  experimentation  and analysis  scientists reveal how things work—from atoms to galaxies  Innovations in medicine  technology  and environment stem from scientific research  Constant curiosity drives discovery  transforming theories into knowledge  Science changes everything—logically  profoundly  and continually '"
      ]
     },
     "execution_count": 5,
     "metadata": {},
     "output_type": "execute_result"
    }
   ],
   "source": [
    "# Replacing punctuations with spaces to make word extraction easier\n",
    "puctuations = \".,-!\\n\"\n",
    "\n",
    "for char in puctuations:\n",
    "    text = text.replace(char,' ')\n",
    "\n",
    "text"
   ]
  },
  {
   "cell_type": "code",
   "execution_count": 8,
   "id": "be520b78-d00a-47c8-bcfd-2376e5c3e07f",
   "metadata": {},
   "outputs": [
    {
     "data": {
      "text/plain": [
       "['Science',\n",
       " 'explores',\n",
       " 'the',\n",
       " 'universe',\n",
       " 'unlocking',\n",
       " 'mysteries',\n",
       " 'of',\n",
       " 'nature',\n",
       " 'energy',\n",
       " 'and',\n",
       " 'life',\n",
       " 'Through',\n",
       " 'observation',\n",
       " 'experimentation',\n",
       " 'and',\n",
       " 'analysis',\n",
       " 'scientists',\n",
       " 'reveal',\n",
       " 'how',\n",
       " 'things',\n",
       " 'work—from',\n",
       " 'atoms',\n",
       " 'to',\n",
       " 'galaxies',\n",
       " 'Innovations',\n",
       " 'in',\n",
       " 'medicine',\n",
       " 'technology',\n",
       " 'and',\n",
       " 'environment',\n",
       " 'stem',\n",
       " 'from',\n",
       " 'scientific',\n",
       " 'research',\n",
       " 'Constant',\n",
       " 'curiosity',\n",
       " 'drives',\n",
       " 'discovery',\n",
       " 'transforming',\n",
       " 'theories',\n",
       " 'into',\n",
       " 'knowledge',\n",
       " 'Science',\n",
       " 'changes',\n",
       " 'everything—logically',\n",
       " 'profoundly',\n",
       " 'and',\n",
       " 'continually']"
      ]
     },
     "execution_count": 8,
     "metadata": {},
     "output_type": "execute_result"
    }
   ],
   "source": [
    "# Use the .split() method to make a list of words from the text\n",
    "all_words = text.split()\n",
    "\n",
    "all_words"
   ]
  },
  {
   "cell_type": "code",
   "execution_count": 9,
   "id": "17df39e8-a041-48bf-badc-bb1c83a5571a",
   "metadata": {},
   "outputs": [
    {
     "data": {
      "text/plain": [
       "{'Constant',\n",
       " 'Innovations',\n",
       " 'Science',\n",
       " 'Through',\n",
       " 'analysis',\n",
       " 'changes',\n",
       " 'continually',\n",
       " 'curiosity',\n",
       " 'discovery',\n",
       " 'drives',\n",
       " 'energy',\n",
       " 'environment',\n",
       " 'everything—logically',\n",
       " 'experimentation',\n",
       " 'explores',\n",
       " 'galaxies',\n",
       " 'knowledge',\n",
       " 'medicine',\n",
       " 'mysteries',\n",
       " 'nature',\n",
       " 'observation',\n",
       " 'profoundly',\n",
       " 'research',\n",
       " 'reveal',\n",
       " 'scientific',\n",
       " 'scientists',\n",
       " 'technology',\n",
       " 'theories',\n",
       " 'things',\n",
       " 'transforming',\n",
       " 'universe',\n",
       " 'unlocking',\n",
       " 'work—from'}"
      ]
     },
     "execution_count": 9,
     "metadata": {},
     "output_type": "execute_result"
    }
   ],
   "source": [
    "# Using set comprehension, extract words with more than 5 letters\n",
    "long_words = {word for word in all_words if len(word) > 5}\n",
    "\n",
    "long_words"
   ]
  },
  {
   "cell_type": "code",
   "execution_count": null,
   "id": "5da4a4be-a706-46f0-93d3-b99982be6be7",
   "metadata": {},
   "outputs": [],
   "source": []
  }
 ],
 "metadata": {
  "kernelspec": {
   "display_name": "Python 3 (ipykernel)",
   "language": "python",
   "name": "python3"
  },
  "language_info": {
   "codemirror_mode": {
    "name": "ipython",
    "version": 3
   },
   "file_extension": ".py",
   "mimetype": "text/x-python",
   "name": "python",
   "nbconvert_exporter": "python",
   "pygments_lexer": "ipython3",
   "version": "3.13.0"
  }
 },
 "nbformat": 4,
 "nbformat_minor": 5
}
