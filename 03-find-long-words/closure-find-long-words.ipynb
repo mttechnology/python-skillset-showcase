{
 "cells": [
  {
   "cell_type": "code",
   "execution_count": 6,
   "id": "6f1abbfe-3015-4148-ae26-e4dde0097895",
   "metadata": {},
   "outputs": [],
   "source": [
    "text = \"\"\"Science explores the universe, unlocking mysteries of nature, energy,\n",
    "and life. Through observation, experimentation, and analysis, scientists reveal how things\n",
    "work—from atoms to galaxies. Innovations in medicine, technology, and environment stem from\n",
    "scientific research. Constant curiosity drives discovery, transforming theories into knowledge.\n",
    "Science changes everything—logically, profoundly, and continually.\"\"\""
   ]
  },
  {
   "cell_type": "code",
   "execution_count": 38,
   "id": "77bc803a-83e3-43d5-8f29-939940328a8d",
   "metadata": {},
   "outputs": [],
   "source": [
    "def length_of_words(num):     # num: minimum word length to extract  \n",
    "    \n",
    "    def filter_words_by_length(text):    # text: input text       \n",
    "        # extracts words longer than 'num' characters\n",
    "        \n",
    "        # replace punctuation with spaces for easier splitting\n",
    "        punctuations = \".,-!\\n\"\n",
    "        for char in punctuations:\n",
    "            text = text.replace(char, ' ')\n",
    "            \n",
    "        all_words = text.split()\n",
    "        \n",
    "        # filter words longer than 'num' characters and create a set of them\n",
    "        result = set(filter(lambda word: len(word) > num, all_words))\n",
    "        \n",
    "        # return the result set\n",
    "        return result\n",
    "    return filter_words_by_length\n",
    "        "
   ]
  },
  {
   "cell_type": "code",
   "execution_count": 39,
   "id": "17c272a1-3b0b-46b8-abea-0d16372a51ac",
   "metadata": {},
   "outputs": [],
   "source": [
    "length_more_9 = length_of_words(9)"
   ]
  },
  {
   "cell_type": "code",
   "execution_count": 40,
   "id": "db7f9015-2b64-41fb-8a92-1edb7e951aaf",
   "metadata": {},
   "outputs": [
    {
     "data": {
      "text/plain": [
       "{'Innovations',\n",
       " 'continually',\n",
       " 'environment',\n",
       " 'everything—logically',\n",
       " 'experimentation',\n",
       " 'observation',\n",
       " 'profoundly',\n",
       " 'scientific',\n",
       " 'scientists',\n",
       " 'technology',\n",
       " 'transforming'}"
      ]
     },
     "execution_count": 40,
     "metadata": {},
     "output_type": "execute_result"
    }
   ],
   "source": [
    "length_more_9(text)"
   ]
  },
  {
   "cell_type": "code",
   "execution_count": 31,
   "id": "93b59c6d-0187-41db-b893-f3b84a8d4887",
   "metadata": {},
   "outputs": [],
   "source": [
    "length_more_6 = length_of_words(6)"
   ]
  },
  {
   "cell_type": "code",
   "execution_count": 32,
   "id": "5c0cd0ec-7187-4eb3-a5fa-294faebb95bc",
   "metadata": {},
   "outputs": [
    {
     "data": {
      "text/plain": [
       "{'Constant',\n",
       " 'Innovations',\n",
       " 'Science',\n",
       " 'Through',\n",
       " 'analysis',\n",
       " 'changes',\n",
       " 'continually',\n",
       " 'curiosity',\n",
       " 'discovery',\n",
       " 'environment',\n",
       " 'everything—logically',\n",
       " 'experimentation',\n",
       " 'explores',\n",
       " 'galaxies',\n",
       " 'knowledge',\n",
       " 'medicine',\n",
       " 'mysteries',\n",
       " 'observation',\n",
       " 'profoundly',\n",
       " 'research',\n",
       " 'scientific',\n",
       " 'scientists',\n",
       " 'technology',\n",
       " 'theories',\n",
       " 'transforming',\n",
       " 'universe',\n",
       " 'unlocking',\n",
       " 'work—from'}"
      ]
     },
     "execution_count": 32,
     "metadata": {},
     "output_type": "execute_result"
    }
   ],
   "source": [
    "length_more_6(text)"
   ]
  },
  {
   "cell_type": "code",
   "execution_count": null,
   "id": "29525948-65df-4c81-9aa7-508f0acae1b9",
   "metadata": {},
   "outputs": [],
   "source": []
  }
 ],
 "metadata": {
  "kernelspec": {
   "display_name": "Python 3 (ipykernel)",
   "language": "python",
   "name": "python3"
  },
  "language_info": {
   "codemirror_mode": {
    "name": "ipython",
    "version": 3
   },
   "file_extension": ".py",
   "mimetype": "text/x-python",
   "name": "python",
   "nbconvert_exporter": "python",
   "pygments_lexer": "ipython3",
   "version": "3.13.0"
  }
 },
 "nbformat": 4,
 "nbformat_minor": 5
}
