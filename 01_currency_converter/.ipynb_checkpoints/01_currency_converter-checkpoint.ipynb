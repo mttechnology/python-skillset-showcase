{
 "cells": [
  {
   "cell_type": "markdown",
   "id": "9a745c8d-6bab-474f-a63d-000b7b3b4b32",
   "metadata": {},
   "source": [
    "# project: Currency Converter"
   ]
  },
  {
   "cell_type": "markdown",
   "id": "ab77af75-d2e4-4584-84ae-c70d019ddd67",
   "metadata": {},
   "source": [
    "This project demonstrates basic currency conversion logic using tuple unpacking and clean code principles in Python.\n",
    "Given a dataset containing **amount**, **source currency**, **target currency**, and **exchange rate**, the goal is to print human-readable conversion results like:  \n",
    "**100 USD = 83 EUR**  \n",
    "# The code focuses on:  \n",
    "🔹**Writing clean**, **reusable logic**  \n",
    "🔹**Using tuple unpacking**  \n",
    "🔹**Applying basic iteration and formatting**  \n",
    "🔹**Avoiding repetition (no hardcoding each case)**"
   ]
  },
  {
   "cell_type": "code",
   "execution_count": null,
   "id": "6a670e55-1546-4ac1-abbc-96c96791e143",
   "metadata": {},
   "outputs": [],
   "source": []
  },
  {
   "cell_type": "code",
   "execution_count": 3,
   "id": "db59e792-4ce0-4fa0-b7c5-cc4059b76841",
   "metadata": {},
   "outputs": [
    {
     "name": "stdout",
     "output_type": "stream",
     "text": [
      "100 USD = 83.0 EUR\n",
      "100 USD = 127.0 CAD\n",
      "100 CAD = 65.0 EUR\n"
     ]
    }
   ],
   "source": [
    "# Example Input: (amount, source_currency, target_currency, exchange_rate)\n",
    "data = [\n",
    "    (100, 'USD', 'EUR', 0.83),\n",
    "    (100, 'USD', 'CAD', 1.27),\n",
    "    (100, 'CAD', 'EUR', 0.65)\n",
    "]\n",
    "\n",
    "for i in range(3):\n",
    "    amount, source_currency, target_currency, exchange_rate = data[i]\n",
    "    converted = amount * exchange_rate\n",
    "    print(f'{amount} {source_currency} = {converted} {target_currency}')"
   ]
  },
  {
   "cell_type": "code",
   "execution_count": null,
   "id": "3fb297d2-c266-4522-a5d7-1e4ee562ced0",
   "metadata": {},
   "outputs": [],
   "source": []
  }
 ],
 "metadata": {
  "kernelspec": {
   "display_name": "Python 3 (ipykernel)",
   "language": "python",
   "name": "python3"
  },
  "language_info": {
   "codemirror_mode": {
    "name": "ipython",
    "version": 3
   },
   "file_extension": ".py",
   "mimetype": "text/x-python",
   "name": "python",
   "nbconvert_exporter": "python",
   "pygments_lexer": "ipython3",
   "version": "3.13.0"
  }
 },
 "nbformat": 4,
 "nbformat_minor": 5
}
